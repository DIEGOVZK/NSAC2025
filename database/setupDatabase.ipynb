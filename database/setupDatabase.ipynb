{
 "cells": [
  {
   "cell_type": "code",
   "execution_count": 2,
   "id": "1ed200f2",
   "metadata": {},
   "outputs": [],
   "source": [
    "import pandas as pd\n",
    "df_clean = pd.read_csv('db.csv')"
   ]
  },
  {
   "cell_type": "code",
   "execution_count": 3,
   "id": "3a08cd56",
   "metadata": {},
   "outputs": [],
   "source": [
    "# pushes the whole df_clear to the sqlite database using library\n",
    "import sqlite3\n",
    "conn = sqlite3.connect('../wapp/database/wapp.db')\n",
    "df_clean.to_sql('transits', conn, if_exists='replace', index=False)\n",
    "conn.close()"
   ]
  },
  {
   "cell_type": "code",
   "execution_count": 4,
   "id": "c886ef53",
   "metadata": {},
   "outputs": [
    {
     "name": "stdout",
     "output_type": "stream",
     "text": [
      "(0, 'period', 'REAL', 0, None, 0)\n",
      "(1, 'transit_epoch_bjd', 'REAL', 0, None, 0)\n",
      "(2, 'transit_duration_hrs', 'REAL', 0, None, 0)\n",
      "(3, 'transit_depth_ppm', 'REAL', 0, None, 0)\n",
      "(4, 'planet_radius_earth', 'REAL', 0, None, 0)\n",
      "(5, 'star_radius_sol', 'REAL', 0, None, 0)\n",
      "(6, 'star_teff', 'REAL', 0, None, 0)\n",
      "(7, 'star_logg', 'REAL', 0, None, 0)\n",
      "(8, 'disposition_text', 'TEXT', 0, None, 0)\n",
      "(9, 'source', 'TEXT', 0, None, 0)\n",
      "(10, 'target_encoded', 'INTEGER', 0, None, 0)\n"
     ]
    }
   ],
   "source": [
    "# read the schema from the database\n",
    "conn = sqlite3.connect('../wapp/database/wapp.db')\n",
    "cursor = conn.cursor()\n",
    "cursor.execute(\"PRAGMA table_info('transits');\")\n",
    "columns = cursor.fetchall()\n",
    "for col in columns:\n",
    "    print(col)\n",
    "conn.close()"
   ]
  }
 ],
 "metadata": {
  "kernelspec": {
   "display_name": "base",
   "language": "python",
   "name": "python3"
  },
  "language_info": {
   "codemirror_mode": {
    "name": "ipython",
    "version": 3
   },
   "file_extension": ".py",
   "mimetype": "text/x-python",
   "name": "python",
   "nbconvert_exporter": "python",
   "pygments_lexer": "ipython3",
   "version": "3.12.9"
  }
 },
 "nbformat": 4,
 "nbformat_minor": 5
}
